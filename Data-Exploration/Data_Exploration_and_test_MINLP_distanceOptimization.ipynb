{
  "nbformat": 4,
  "nbformat_minor": 0,
  "metadata": {
    "colab": {
      "name": "Data_Exploration_and_test_MINLP_distanceOptimization.ipynb",
      "provenance": [],
      "collapsed_sections": []
    },
    "kernelspec": {
      "display_name": "Python 3",
      "language": "python",
      "name": "python3"
    },
    "language_info": {
      "codemirror_mode": {
        "name": "ipython",
        "version": 3
      },
      "file_extension": ".py",
      "mimetype": "text/x-python",
      "name": "python",
      "nbconvert_exporter": "python",
      "pygments_lexer": "ipython3",
      "version": "3.7.6"
    }
  },
  "cells": [
    {
      "cell_type": "code",
      "metadata": {
        "colab": {
          "base_uri": "https://localhost:8080/"
        },
        "id": "FqT5uKnNd1aI",
        "outputId": "83134450-4ab4-4893-b7da-e4ad7ba72970"
      },
      "source": [
        "from google.colab import drive\n",
        "drive.mount('/content/gdrive')\n",
        "%cd /content/gdrive/My Drive/OPR NLP/"
      ],
      "execution_count": 1,
      "outputs": [
        {
          "output_type": "stream",
          "text": [
            "Mounted at /content/gdrive\n",
            "/content/gdrive/My Drive/OPR NLP\n"
          ],
          "name": "stdout"
        }
      ]
    },
    {
      "cell_type": "code",
      "metadata": {
        "id": "PNewpsVydzaA"
      },
      "source": [
        "import pandas as pd\n",
        "import numpy as np\n",
        "from scipy.optimize import minimize\n",
        "from scipy.optimize import Bounds"
      ],
      "execution_count": 2,
      "outputs": []
    },
    {
      "cell_type": "code",
      "metadata": {
        "colab": {
          "base_uri": "https://localhost:8080/",
          "height": 111
        },
        "id": "Y4Hkc-TndzaC",
        "outputId": "60fc8045-160b-40c1-91fa-4ba8bc6650a6"
      },
      "source": [
        "vehicles = pd.read_csv('20180901_20190101_allLocation.csv',index_col = False)\n",
        "vehicles.head(2)"
      ],
      "execution_count": 3,
      "outputs": [
        {
          "output_type": "execute_result",
          "data": {
            "text/html": [
              "<div>\n",
              "<style scoped>\n",
              "    .dataframe tbody tr th:only-of-type {\n",
              "        vertical-align: middle;\n",
              "    }\n",
              "\n",
              "    .dataframe tbody tr th {\n",
              "        vertical-align: top;\n",
              "    }\n",
              "\n",
              "    .dataframe thead th {\n",
              "        text-align: right;\n",
              "    }\n",
              "</style>\n",
              "<table border=\"1\" class=\"dataframe\">\n",
              "  <thead>\n",
              "    <tr style=\"text-align: right;\">\n",
              "      <th></th>\n",
              "      <th>EndLatitude</th>\n",
              "      <th>EndLongitude</th>\n",
              "    </tr>\n",
              "  </thead>\n",
              "  <tbody>\n",
              "    <tr>\n",
              "      <th>0</th>\n",
              "      <td>38.262</td>\n",
              "      <td>-85.682</td>\n",
              "    </tr>\n",
              "    <tr>\n",
              "      <th>1</th>\n",
              "      <td>38.255</td>\n",
              "      <td>-85.781</td>\n",
              "    </tr>\n",
              "  </tbody>\n",
              "</table>\n",
              "</div>"
            ],
            "text/plain": [
              "   EndLatitude  EndLongitude\n",
              "0       38.262       -85.682\n",
              "1       38.255       -85.781"
            ]
          },
          "metadata": {
            "tags": []
          },
          "execution_count": 3
        }
      ]
    },
    {
      "cell_type": "code",
      "metadata": {
        "id": "mQaCVJRbdzaE"
      },
      "source": [
        "v = np.array(vehicles[0:10])\n",
        "n = 9"
      ],
      "execution_count": 4,
      "outputs": []
    },
    {
      "cell_type": "code",
      "metadata": {
        "id": "SbLtMANi46OG",
        "colab": {
          "base_uri": "https://localhost:8080/"
        },
        "outputId": "0d81fa11-1eb9-4cbc-bddc-2986d52e0ce1"
      },
      "source": [
        "# read the documentation to transfer the value to longitude and latitude\n",
        "!pip install pycrs\n",
        "import pycrs\n",
        "from pprint import pprint\n",
        "crs = pycrs.load.from_file(\"./Dockless_Vehicle_Distribution_Zones/Dockless_Vehicle_Distribution_Zones.prj\")\n",
        "\n",
        "!pip install pyproj\n",
        "from pyproj import Proj\n",
        "myProj = Proj(crs.to_proj4())\n",
        "\n",
        "# read coordinate files\n",
        "!pip install PyShp\n",
        "import shapefile\n",
        "from shapely.geometry import Point, Polygon\n",
        "from pprint import pprint\n",
        "shape = shapefile.Reader(\"./Dockless_Vehicle_Distribution_Zones/Dockless_Vehicle_Distribution_Zones.shp\")\n",
        "#first feature of the shapefile\n",
        "coordinate = {}\n",
        "for i in range(9):\n",
        "  feature = shape.shapeRecords()[i]\n",
        "  coor= feature.shape.__geo_interface__ \n",
        "  coordinate[i] = coor['coordinates'][0]\n",
        "\n",
        "# find the bound for the coordinate\n",
        "coor_upper = []\n",
        "coor_lower = []\n",
        "x_range = []\n",
        "y_range = []\n",
        "for i in range(9):\n",
        "  temp = pd.DataFrame(coordinate[i], columns = ['x','y'])\n",
        "  x, y = myProj(temp.x,temp.y, inverse = True)\n",
        "  x_max = x.max()\n",
        "  x_min = x.min()\n",
        "  y_max = y.max()\n",
        "  y_min = y.min()\n",
        "  coor_upper.extend([x_max, y_max])\n",
        "  coor_lower.extend([x_min, y_min])\n",
        "  x_range.append((x_min, x_max))\n",
        "  y_range.append((y_min, y_max))\n",
        "\n",
        "\n",
        "\n",
        "x_min = np.array(coor_lower).reshape(-1,2).T[0]\n",
        "y_min = np.array(coor_lower).reshape(-1,2).T[1]\n",
        "x_max = np.array(coor_upper).reshape(-1,2).T[0]\n",
        "y_max = np.array(coor_upper).reshape(-1,2).T[1]\n",
        "\n",
        "x_range_all = (x_min.min(),x_max.max())\n",
        "y_range_all = (y_min.min(),y_max.max())"
      ],
      "execution_count": 6,
      "outputs": [
        {
          "output_type": "stream",
          "text": [
            "Collecting pycrs\n",
            "  Downloading https://files.pythonhosted.org/packages/50/0b/33c6ab39701d982eabfdc732d920862d79d7598893c7291c5f6ec1e66d3c/PyCRS-1.0.2.tar.gz\n",
            "Building wheels for collected packages: pycrs\n",
            "  Building wheel for pycrs (setup.py) ... \u001b[?25l\u001b[?25hdone\n",
            "  Created wheel for pycrs: filename=PyCRS-1.0.2-cp36-none-any.whl size=32683 sha256=875ae34a597b9875ba94207929bdf00b22b0feb5c6f850e60f43d96fd1939ecd\n",
            "  Stored in directory: /root/.cache/pip/wheels/1a/c9/56/648f762bd41fdb03454be51b8a7069795925168833cb61f316\n",
            "Successfully built pycrs\n",
            "Installing collected packages: pycrs\n",
            "Successfully installed pycrs-1.0.2\n",
            "Collecting pyproj\n",
            "\u001b[?25l  Downloading https://files.pythonhosted.org/packages/e4/ab/280e80a67cfc109d15428c0ec56391fc03a65857b7727cf4e6e6f99a4204/pyproj-3.0.0.post1-cp36-cp36m-manylinux2010_x86_64.whl (6.4MB)\n",
            "\u001b[K     |████████████████████████████████| 6.5MB 8.8MB/s \n",
            "\u001b[?25hRequirement already satisfied: certifi in /usr/local/lib/python3.6/dist-packages (from pyproj) (2020.11.8)\n",
            "Installing collected packages: pyproj\n",
            "Successfully installed pyproj-3.0.0.post1\n",
            "Collecting PyShp\n",
            "\u001b[?25l  Downloading https://files.pythonhosted.org/packages/ca/1f/e9cc2c3fce32e2926581f8b6905831165235464c858ba550b6e9b8ef78c3/pyshp-2.1.2.tar.gz (217kB)\n",
            "\u001b[K     |████████████████████████████████| 225kB 5.6MB/s \n",
            "\u001b[?25hBuilding wheels for collected packages: PyShp\n",
            "  Building wheel for PyShp (setup.py) ... \u001b[?25l\u001b[?25hdone\n",
            "  Created wheel for PyShp: filename=pyshp-2.1.2-cp36-none-any.whl size=36216 sha256=0271ba13e12af7e0eb83bcf48fb1e6fd953dd125c25a6b3c57d6dd86792de38b\n",
            "  Stored in directory: /root/.cache/pip/wheels/96/6c/53/4112475adf3b831da97f083163d0f38ee6daac9c1b13f7afea\n",
            "Successfully built PyShp\n",
            "Installing collected packages: PyShp\n",
            "Successfully installed PyShp-2.1.2\n"
          ],
          "name": "stdout"
        }
      ]
    },
    {
      "cell_type": "code",
      "metadata": {
        "colab": {
          "base_uri": "https://localhost:8080/"
        },
        "id": "OOjH7bSqBvyb",
        "outputId": "f1ab9e79-e043-4461-de63-236302237452"
      },
      "source": [
        "x_range_v = (vehicles.EndLongitude.min(),vehicles.EndLongitude.max())\n",
        "y_range_v = (vehicles.EndLatitude.min(),vehicles.EndLatitude.max())\n",
        "x_range_v, y_range_v\n"
      ],
      "execution_count": 24,
      "outputs": [
        {
          "output_type": "execute_result",
          "data": {
            "text/plain": [
              "((-85.84200000000001, -85.569), (38.103, 38.371))"
            ]
          },
          "metadata": {
            "tags": []
          },
          "execution_count": 24
        }
      ]
    },
    {
      "cell_type": "code",
      "metadata": {
        "colab": {
          "base_uri": "https://localhost:8080/"
        },
        "id": "kH3uzlZ8BmzP",
        "outputId": "f66745df-3488-4e38-ecf3-1a01e07da36b"
      },
      "source": [
        "x_range_all, y_range_all"
      ],
      "execution_count": 25,
      "outputs": [
        {
          "output_type": "execute_result",
          "data": {
            "text/plain": [
              "((-98.74424614038226, -98.53409122980943),\n",
              " (37.256575665827334, 37.41478947387985))"
            ]
          },
          "metadata": {
            "tags": []
          },
          "execution_count": 25
        }
      ]
    },
    {
      "cell_type": "code",
      "metadata": {
        "id": "7bxQpvbpq17F"
      },
      "source": [
        "allzonerange = pd.DataFrame(np.array([list(x_min), list(x_max), list(y_min), list(y_max)]).T, columns = ['xmin','xmax','ymin','ymax'])\n",
        "allzonerange.to_csv('all_zone_range.csv')"
      ],
      "execution_count": 17,
      "outputs": []
    },
    {
      "cell_type": "code",
      "metadata": {
        "colab": {
          "base_uri": "https://localhost:8080/"
        },
        "id": "kknqeBAYmcU_",
        "outputId": "8881b044-de2c-4559-e813-d27566743067"
      },
      "source": [
        "!pip install pyomo\n",
        "from pyomo.environ import *\n",
        "from pyomo.dae import *\n",
        "m= ConcreteModel()\n",
        "\n",
        "# reference\n",
        "# https://pyomo.readthedocs.io/en/stable/working_models.html\n",
        "# https://projects.coin-or.org/Coopr/browser/pyomo/trunk/examples/dae/Heat_Conduction.py?rev=9315\n",
        "# https://pyomo.readthedocs.io/en/stable/modeling_extensions/dae.html"
      ],
      "execution_count": null,
      "outputs": [
        {
          "output_type": "stream",
          "text": [
            "Requirement already satisfied: pyomo in /usr/local/lib/python3.6/dist-packages (5.7.1)\n",
            "Requirement already satisfied: PyUtilib>=6.0 in /usr/local/lib/python3.6/dist-packages (from pyomo) (6.0.0)\n",
            "Requirement already satisfied: six>=1.4 in /usr/local/lib/python3.6/dist-packages (from pyomo) (1.15.0)\n",
            "Requirement already satisfied: ply in /usr/local/lib/python3.6/dist-packages (from pyomo) (3.11)\n",
            "Requirement already satisfied: nose in /usr/local/lib/python3.6/dist-packages (from PyUtilib>=6.0->pyomo) (1.3.7)\n"
          ],
          "name": "stdout"
        }
      ]
    },
    {
      "cell_type": "code",
      "metadata": {
        "id": "5g9MTae5Sn8t"
      },
      "source": [
        "!pip install mip\n",
        "from mip import Model, xsum, minimize, BINARY, CONTINUOUS"
      ],
      "execution_count": null,
      "outputs": []
    },
    {
      "cell_type": "code",
      "metadata": {
        "id": "FxWhCvOMgxHp"
      },
      "source": [
        "from scipy.spatial import distance"
      ],
      "execution_count": null,
      "outputs": []
    },
    {
      "cell_type": "code",
      "metadata": {
        "colab": {
          "base_uri": "https://localhost:8080/"
        },
        "id": "9LQq0v1_QvPb",
        "outputId": "1926d74a-cb34-4471-9e55-e53a4ca94007"
      },
      "source": [
        "# x_range"
      ],
      "execution_count": null,
      "outputs": [
        {
          "output_type": "execute_result",
          "data": {
            "text/plain": [
              "[(-98.7440762869345, -98.67743592134778),\n",
              " (-98.74424614038226, -98.66923922836325),\n",
              " (-98.67885245865642, -98.6340392708933),\n",
              " (-98.6776637308838, -98.63113425473702),\n",
              " (-98.65620869197937, -98.59370364737312),\n",
              " (-98.65046095845308, -98.55635988801255),\n",
              " (-98.62115996442373, -98.53409122980943),\n",
              " (-98.73055268154587, -98.65839015751398),\n",
              " (-98.7232213007557, -98.64894479338597)]"
            ]
          },
          "metadata": {
            "tags": []
          },
          "execution_count": 130
        }
      ]
    },
    {
      "cell_type": "code",
      "metadata": {
        "id": "OiNfmgWKQsJB"
      },
      "source": [
        "# model.x1 = Var(bounds=x_range[0])\n",
        "# model.x2 = Var(bounds=x_range[1])"
      ],
      "execution_count": null,
      "outputs": []
    },
    {
      "cell_type": "code",
      "metadata": {
        "colab": {
          "base_uri": "https://localhost:8080/"
        },
        "id": "kML8wfHMarKx",
        "outputId": "792e7f3d-efcb-4c16-f40d-7e14120d560f"
      },
      "source": [
        "v"
      ],
      "execution_count": null,
      "outputs": [
        {
          "output_type": "execute_result",
          "data": {
            "text/plain": [
              "array([[ 38.262, -85.682],\n",
              "       [ 38.255, -85.781],\n",
              "       [ 38.255, -85.763],\n",
              "       [ 38.257, -85.758],\n",
              "       [ 38.257, -85.757],\n",
              "       [ 38.252, -85.696],\n",
              "       [ 38.255, -85.744],\n",
              "       [ 38.258, -85.716],\n",
              "       [ 38.257, -85.757],\n",
              "       [ 38.254, -85.782]])"
            ]
          },
          "metadata": {
            "tags": []
          },
          "execution_count": 134
        }
      ]
    },
    {
      "cell_type": "code",
      "metadata": {
        "id": "S6Is6B61wREB"
      },
      "source": [
        "m = ConcreteModel()\n",
        "'''variables'''\n",
        "# binary\n",
        "m.Nweight = Param(initialize=len(v)*9)\n",
        "m.N = RangeSet(m.Nweight)\n",
        "m.weight = Var(m.N, within = Binary)\n",
        "\n",
        "# station coordination\n",
        "m.SstationX = ContinuousSet(bounds = x_range_all)\n",
        "m.SstationY = ContinuousSet(bounds = y_range_all)\n",
        "m.stationX = Param(m.SstationX,initialize = 9)\n",
        "m.stationY = Param(m.SstationY,initialize = 9)\n",
        "\n",
        "# objective function\n",
        "...\n"
      ],
      "execution_count": null,
      "outputs": []
    },
    {
      "cell_type": "code",
      "metadata": {
        "id": "zJx1Pieyfoqi"
      },
      "source": [
        ""
      ],
      "execution_count": null,
      "outputs": []
    },
    {
      "cell_type": "markdown",
      "metadata": {
        "id": "IzFm00Oh5zYI"
      },
      "source": [
        "## Appendix\n",
        "### Read shape data for first constraint"
      ]
    },
    {
      "cell_type": "code",
      "metadata": {
        "colab": {
          "base_uri": "https://localhost:8080/"
        },
        "id": "Fi6s24oUdzaH",
        "outputId": "fe5f428e-4af3-48df-e91c-d7d300b8275f"
      },
      "source": [
        "!pip install PyShp\n",
        "import shapefile\n",
        "from shapely.geometry import Point, Polygon\n",
        "shape = shapefile.Reader(\"./Dockless_Vehicle_Distribution_Zones/Dockless_Vehicle_Distribution_Zones.shp\")\n",
        "#first feature of the shapefile\n",
        "coordinate = {}\n",
        "for i in range(9):\n",
        "  feature = shape.shapeRecords()[i]\n",
        "  coor= feature.shape.__geo_interface__ \n",
        "  coordinate[i] = coor['coordinates'][0]"
      ],
      "execution_count": null,
      "outputs": [
        {
          "output_type": "stream",
          "text": [
            "Collecting PyShp\n",
            "\u001b[?25l  Downloading https://files.pythonhosted.org/packages/ca/1f/e9cc2c3fce32e2926581f8b6905831165235464c858ba550b6e9b8ef78c3/pyshp-2.1.2.tar.gz (217kB)\n",
            "\r\u001b[K     |█▌                              | 10kB 16.0MB/s eta 0:00:01\r\u001b[K     |███                             | 20kB 21.3MB/s eta 0:00:01\r\u001b[K     |████▌                           | 30kB 13.6MB/s eta 0:00:01\r\u001b[K     |██████                          | 40kB 9.5MB/s eta 0:00:01\r\u001b[K     |███████▌                        | 51kB 5.2MB/s eta 0:00:01\r\u001b[K     |█████████                       | 61kB 5.6MB/s eta 0:00:01\r\u001b[K     |██████████▌                     | 71kB 5.7MB/s eta 0:00:01\r\u001b[K     |████████████                    | 81kB 6.3MB/s eta 0:00:01\r\u001b[K     |█████████████▌                  | 92kB 6.6MB/s eta 0:00:01\r\u001b[K     |███████████████                 | 102kB 6.8MB/s eta 0:00:01\r\u001b[K     |████████████████▌               | 112kB 6.8MB/s eta 0:00:01\r\u001b[K     |██████████████████              | 122kB 6.8MB/s eta 0:00:01\r\u001b[K     |███████████████████▌            | 133kB 6.8MB/s eta 0:00:01\r\u001b[K     |█████████████████████           | 143kB 6.8MB/s eta 0:00:01\r\u001b[K     |██████████████████████▋         | 153kB 6.8MB/s eta 0:00:01\r\u001b[K     |████████████████████████        | 163kB 6.8MB/s eta 0:00:01\r\u001b[K     |█████████████████████████▋      | 174kB 6.8MB/s eta 0:00:01\r\u001b[K     |███████████████████████████     | 184kB 6.8MB/s eta 0:00:01\r\u001b[K     |████████████████████████████▋   | 194kB 6.8MB/s eta 0:00:01\r\u001b[K     |██████████████████████████████  | 204kB 6.8MB/s eta 0:00:01\r\u001b[K     |███████████████████████████████▋| 215kB 6.8MB/s eta 0:00:01\r\u001b[K     |████████████████████████████████| 225kB 6.8MB/s \n",
            "\u001b[?25hBuilding wheels for collected packages: PyShp\n",
            "  Building wheel for PyShp (setup.py) ... \u001b[?25l\u001b[?25hdone\n",
            "  Created wheel for PyShp: filename=pyshp-2.1.2-cp36-none-any.whl size=36216 sha256=df8f73feb2b6ac6bfd00b181a0e5bb998fd6318483d49d539d636191b285d7b6\n",
            "  Stored in directory: /root/.cache/pip/wheels/96/6c/53/4112475adf3b831da97f083163d0f38ee6daac9c1b13f7afea\n",
            "Successfully built PyShp\n",
            "Installing collected packages: PyShp\n",
            "Successfully installed PyShp-2.1.2\n"
          ],
          "name": "stdout"
        },
        {
          "output_type": "execute_result",
          "data": {
            "text/plain": [
              "True"
            ]
          },
          "metadata": {
            "tags": []
          },
          "execution_count": 20
        }
      ]
    },
    {
      "cell_type": "code",
      "metadata": {
        "colab": {
          "base_uri": "https://localhost:8080/",
          "height": 391
        },
        "id": "sgc_gVBxNp_7",
        "outputId": "73789aa3-d4ed-4d2e-c2c8-e6f98634237d"
      },
      "source": [
        "pd.DataFrame(coordinate[1], columns = ['x','y'])"
      ],
      "execution_count": null,
      "outputs": [
        {
          "output_type": "execute_result",
          "data": {
            "text/html": [
              "<div>\n",
              "<style scoped>\n",
              "    .dataframe tbody tr th:only-of-type {\n",
              "        vertical-align: middle;\n",
              "    }\n",
              "\n",
              "    .dataframe tbody tr th {\n",
              "        vertical-align: top;\n",
              "    }\n",
              "\n",
              "    .dataframe thead th {\n",
              "        text-align: right;\n",
              "    }\n",
              "</style>\n",
              "<table border=\"1\" class=\"dataframe\">\n",
              "  <thead>\n",
              "    <tr style=\"text-align: right;\">\n",
              "      <th></th>\n",
              "      <th>x</th>\n",
              "      <th>y</th>\n",
              "    </tr>\n",
              "  </thead>\n",
              "  <tbody>\n",
              "    <tr>\n",
              "      <th>0</th>\n",
              "      <td>1.204659e+06</td>\n",
              "      <td>274362.969034</td>\n",
              "    </tr>\n",
              "    <tr>\n",
              "      <th>1</th>\n",
              "      <td>1.204581e+06</td>\n",
              "      <td>273864.339985</td>\n",
              "    </tr>\n",
              "    <tr>\n",
              "      <th>2</th>\n",
              "      <td>1.204477e+06</td>\n",
              "      <td>273211.377500</td>\n",
              "    </tr>\n",
              "    <tr>\n",
              "      <th>3</th>\n",
              "      <td>1.204445e+06</td>\n",
              "      <td>273006.591840</td>\n",
              "    </tr>\n",
              "    <tr>\n",
              "      <th>4</th>\n",
              "      <td>1.204422e+06</td>\n",
              "      <td>272861.552500</td>\n",
              "    </tr>\n",
              "    <tr>\n",
              "      <th>...</th>\n",
              "      <td>...</td>\n",
              "      <td>...</td>\n",
              "    </tr>\n",
              "    <tr>\n",
              "      <th>444</th>\n",
              "      <td>1.204848e+06</td>\n",
              "      <td>275203.351250</td>\n",
              "    </tr>\n",
              "    <tr>\n",
              "      <th>445</th>\n",
              "      <td>1.204775e+06</td>\n",
              "      <td>275046.838750</td>\n",
              "    </tr>\n",
              "    <tr>\n",
              "      <th>446</th>\n",
              "      <td>1.204750e+06</td>\n",
              "      <td>274902.667500</td>\n",
              "    </tr>\n",
              "    <tr>\n",
              "      <th>447</th>\n",
              "      <td>1.204701e+06</td>\n",
              "      <td>274628.125000</td>\n",
              "    </tr>\n",
              "    <tr>\n",
              "      <th>448</th>\n",
              "      <td>1.204659e+06</td>\n",
              "      <td>274362.969034</td>\n",
              "    </tr>\n",
              "  </tbody>\n",
              "</table>\n",
              "<p>449 rows × 2 columns</p>\n",
              "</div>"
            ],
            "text/plain": [
              "                x              y\n",
              "0    1.204659e+06  274362.969034\n",
              "1    1.204581e+06  273864.339985\n",
              "2    1.204477e+06  273211.377500\n",
              "3    1.204445e+06  273006.591840\n",
              "4    1.204422e+06  272861.552500\n",
              "..            ...            ...\n",
              "444  1.204848e+06  275203.351250\n",
              "445  1.204775e+06  275046.838750\n",
              "446  1.204750e+06  274902.667500\n",
              "447  1.204701e+06  274628.125000\n",
              "448  1.204659e+06  274362.969034\n",
              "\n",
              "[449 rows x 2 columns]"
            ]
          },
          "metadata": {
            "tags": []
          },
          "execution_count": 35
        }
      ]
    },
    {
      "cell_type": "markdown",
      "metadata": {
        "id": "SYeGBopeMhOa"
      },
      "source": [
        "#### documentation to understand the prj file\n",
        "http://www.geoapi.org/3.0/javadoc/org/opengis/referencing/doc-files/WKT.html"
      ]
    },
    {
      "cell_type": "code",
      "metadata": {
        "colab": {
          "base_uri": "https://localhost:8080/"
        },
        "id": "nVhlvECAMD-B",
        "outputId": "fff21bf1-e447-45a1-9790-57ddfc4eb5ab"
      },
      "source": [
        "# read the documentation to transfer the value to longitude and latitude\n",
        "!pip install pycrs\n",
        "import pycrs\n",
        "from pprint import pprint\n",
        "crs = pycrs.load.from_file(\"./Dockless_Vehicle_Distribution_Zones/Dockless_Vehicle_Distribution_Zones.prj\")"
      ],
      "execution_count": null,
      "outputs": [
        {
          "output_type": "stream",
          "text": [
            "Requirement already satisfied: pycrs in /usr/local/lib/python3.6/dist-packages (1.0.2)\n"
          ],
          "name": "stdout"
        },
        {
          "output_type": "execute_result",
          "data": {
            "text/plain": [
              "<bound method ProjCS.to_ogc_wkt of <pycrs.elements.cs.ProjCS object at 0x7f39e8352780>>"
            ]
          },
          "metadata": {
            "tags": []
          },
          "execution_count": 59
        }
      ]
    },
    {
      "cell_type": "markdown",
      "metadata": {
        "id": "j9Nm7M8fPhib"
      },
      "source": [
        "#### crs.to_ogc_wkt()\n",
        "    PROJCS[\"NAD_1983_StatePlane_Kentucky_North_FIPS_1601_Feet\", \n",
        "\n",
        "        GEOGCS[\"GCS_North_American_1983\", \n",
        "\n",
        "            DATUM[\"North_American_Datum_1983\", \n",
        "\n",
        "                SPHEROID[\"GRS_1980\", 6378137.0, 298.257222101]\n",
        "\n",
        "            ], \n",
        "\n",
        "            PRIMEM[\"Greenwich\", 0], \n",
        "\n",
        "            UNIT[\"degree\", 0.0174532925199433], \n",
        "\n",
        "            AXIS[\"Lon\", EAST], \n",
        "\n",
        "            AXIS[\"Lat\", NORTH]\n",
        "\n",
        "        ], \n",
        "        PROJECTION[\"Lambert_Conformal_Conic\"], \n",
        "\n",
        "        PARAMETER[\"false_easting\", 1640416.666666667], \n",
        "\n",
        "        PARAMETER[\"false_northing\", 0.0], \n",
        "\n",
        "        PARAMETER[\"Central_Meridian\", -84.25], \n",
        "\n",
        "        PARAMETER[\"standard_parallel_1\", 37.96666666666667], \n",
        "\n",
        "        PARAMETER[\"standard_parallel_2\", 38.96666666666667], \n",
        "\n",
        "        PARAMETER[\"latitude_of_origin\", 37.5], \n",
        "\n",
        "        UNIT[\"Foot_US\", 0.3048006096012192], \n",
        "\n",
        "        AXIS[\"X\", EAST], AXIS[\"Y\", NORTH]]"
      ]
    },
    {
      "cell_type": "code",
      "metadata": {
        "colab": {
          "base_uri": "https://localhost:8080/",
          "height": 51
        },
        "id": "r8fJXopOT0tV",
        "outputId": "3b62b84a-b70f-4497-f324-42e7587c95fb"
      },
      "source": [
        "crs.to_proj4()"
      ],
      "execution_count": null,
      "outputs": [
        {
          "output_type": "execute_result",
          "data": {
            "application/vnd.google.colaboratory.intrinsic+json": {
              "type": "string"
            },
            "text/plain": [
              "'+proj=lcc +datum=NAD83 +ellps=GRS80 +a=6378137.0 +rf=298.257222101 +pm=0 +x_0=1640416.666666667 +y_0=0.0 +lon_0=-84.25 +lat_1=37.96666666666667 +lat_2=38.96666666666667 +lat_0=37.5 +units=us-ft +axis=enu +no_defs'"
            ]
          },
          "metadata": {
            "tags": []
          },
          "execution_count": 72
        }
      ]
    },
    {
      "cell_type": "markdown",
      "metadata": {
        "id": "9xrkrEEtSqsw"
      },
      "source": [
        "#### Transfer the proj to longitude and latitude"
      ]
    },
    {
      "cell_type": "code",
      "metadata": {
        "id": "EFrvdn_TSkqV"
      },
      "source": [
        "!pip install pycrs\n",
        "import pycrs\n",
        "from pprint import pprint\n",
        "crs = pycrs.load.from_file(\"./Dockless_Vehicle_Distribution_Zones/Dockless_Vehicle_Distribution_Zones.prj\")\n",
        "\n",
        "!pip install pyproj\n",
        "from pyproj import Proj\n",
        "myProj = Proj(crs.to_proj4())"
      ],
      "execution_count": null,
      "outputs": []
    },
    {
      "cell_type": "code",
      "metadata": {
        "colab": {
          "base_uri": "https://localhost:8080/"
        },
        "id": "zc5KGS8vSkzH",
        "outputId": "8f0023bc-53dc-4a32-d4d3-6c76dbf3696e"
      },
      "source": [
        "coordinate[7]"
      ],
      "execution_count": null,
      "outputs": [
        {
          "output_type": "execute_result",
          "data": {
            "text/plain": [
              "[(1198503.793750003, 266260.02249999344),\n",
              " (1198872.6875282228, 266218.88355474174),\n",
              " (1199091.4362500012, 266194.4887500107),\n",
              " (1199155.9058714807, 266180.91374632716),\n",
              " (1199463.3712500036, 266116.1724999994)]"
            ]
          },
          "metadata": {
            "tags": []
          },
          "execution_count": 67
        }
      ]
    },
    {
      "cell_type": "code",
      "metadata": {
        "id": "q3Mlf8O9Sk6U"
      },
      "source": [
        "df = pd.DataFrame(coordinate[0], columns=['Foot_US_EAST','Foot_US_NORTH'])\n",
        "\n",
        "lon, lat = myProj(df['Foot_US_EAST'].values, df['Foot_US_NORTH'].values, inverse = True)"
      ],
      "execution_count": null,
      "outputs": []
    },
    {
      "cell_type": "code",
      "metadata": {
        "id": "BorICWv0Sk8b"
      },
      "source": [
        "# test back\n",
        "LCCx, LCCy = myProj(lon, lat)"
      ],
      "execution_count": null,
      "outputs": []
    },
    {
      "cell_type": "code",
      "metadata": {
        "colab": {
          "base_uri": "https://localhost:8080/",
          "height": 204
        },
        "id": "u6CT2KGrTIZ_",
        "outputId": "a42d2958-4fb0-4fdb-d58a-3f1742dd0256"
      },
      "source": [
        "\n",
        "result = pd.DataFrame(np.c_[LCCx, LCCy, lon, lat], columns=['LCCx', 'LCCy', 'Lon', 'Lat'])\n",
        "result.head()"
      ],
      "execution_count": null,
      "outputs": [
        {
          "output_type": "execute_result",
          "data": {
            "text/html": [
              "<div>\n",
              "<style scoped>\n",
              "    .dataframe tbody tr th:only-of-type {\n",
              "        vertical-align: middle;\n",
              "    }\n",
              "\n",
              "    .dataframe tbody tr th {\n",
              "        vertical-align: top;\n",
              "    }\n",
              "\n",
              "    .dataframe thead th {\n",
              "        text-align: right;\n",
              "    }\n",
              "</style>\n",
              "<table border=\"1\" class=\"dataframe\">\n",
              "  <thead>\n",
              "    <tr style=\"text-align: right;\">\n",
              "      <th></th>\n",
              "      <th>LCCx</th>\n",
              "      <th>LCCy</th>\n",
              "      <th>Lon</th>\n",
              "      <th>Lat</th>\n",
              "    </tr>\n",
              "  </thead>\n",
              "  <tbody>\n",
              "    <tr>\n",
              "      <th>0</th>\n",
              "      <td>1.193692e+06</td>\n",
              "      <td>287815.076363</td>\n",
              "      <td>-98.722164</td>\n",
              "      <td>37.384932</td>\n",
              "    </tr>\n",
              "    <tr>\n",
              "      <th>1</th>\n",
              "      <td>1.193720e+06</td>\n",
              "      <td>287810.630178</td>\n",
              "      <td>-98.722065</td>\n",
              "      <td>37.384932</td>\n",
              "    </tr>\n",
              "    <tr>\n",
              "      <th>2</th>\n",
              "      <td>1.193756e+06</td>\n",
              "      <td>287807.880183</td>\n",
              "      <td>-98.721942</td>\n",
              "      <td>37.384940</td>\n",
              "    </tr>\n",
              "    <tr>\n",
              "      <th>3</th>\n",
              "      <td>1.193794e+06</td>\n",
              "      <td>287805.880187</td>\n",
              "      <td>-98.721811</td>\n",
              "      <td>37.384951</td>\n",
              "    </tr>\n",
              "    <tr>\n",
              "      <th>4</th>\n",
              "      <td>1.193831e+06</td>\n",
              "      <td>287804.130191</td>\n",
              "      <td>-98.721685</td>\n",
              "      <td>37.384962</td>\n",
              "    </tr>\n",
              "  </tbody>\n",
              "</table>\n",
              "</div>"
            ],
            "text/plain": [
              "           LCCx           LCCy        Lon        Lat\n",
              "0  1.193692e+06  287815.076363 -98.722164  37.384932\n",
              "1  1.193720e+06  287810.630178 -98.722065  37.384932\n",
              "2  1.193756e+06  287807.880183 -98.721942  37.384940\n",
              "3  1.193794e+06  287805.880187 -98.721811  37.384951\n",
              "4  1.193831e+06  287804.130191 -98.721685  37.384962"
            ]
          },
          "metadata": {
            "tags": []
          },
          "execution_count": 111
        }
      ]
    },
    {
      "cell_type": "code",
      "metadata": {
        "id": "qjvP8gYLTIft",
        "colab": {
          "base_uri": "https://localhost:8080/"
        },
        "outputId": "5f894065-91a5-4ecc-913c-616864f439e0"
      },
      "source": [
        "result.Lon.min()"
      ],
      "execution_count": null,
      "outputs": [
        {
          "output_type": "execute_result",
          "data": {
            "text/plain": [
              "-98.7440762869345"
            ]
          },
          "metadata": {
            "tags": []
          },
          "execution_count": 113
        }
      ]
    },
    {
      "cell_type": "code",
      "metadata": {
        "id": "_2skf7DgTIh6"
      },
      "source": [
        ""
      ],
      "execution_count": null,
      "outputs": []
    },
    {
      "cell_type": "code",
      "metadata": {
        "id": "670U3fwcTImT"
      },
      "source": [
        ""
      ],
      "execution_count": null,
      "outputs": []
    },
    {
      "cell_type": "code",
      "metadata": {
        "id": "FMWfvolhTIo1"
      },
      "source": [
        ""
      ],
      "execution_count": null,
      "outputs": []
    },
    {
      "cell_type": "code",
      "metadata": {
        "id": "hxrIUDpJTIsb"
      },
      "source": [
        ""
      ],
      "execution_count": null,
      "outputs": []
    },
    {
      "cell_type": "code",
      "metadata": {
        "id": "bbmn64IlTIwo"
      },
      "source": [
        ""
      ],
      "execution_count": null,
      "outputs": []
    },
    {
      "cell_type": "code",
      "metadata": {
        "id": "UJq173oLSk-a"
      },
      "source": [
        ""
      ],
      "execution_count": null,
      "outputs": []
    },
    {
      "cell_type": "code",
      "metadata": {
        "id": "efrh6CyUdzaH"
      },
      "source": [
        "def f(x):\n",
        "    fval = (x[0] - x[1] - 1)**2\n",
        "    \n",
        "    return fval\n",
        "\n",
        "def grad(x):\n",
        "    fgrad = np.zeros(2)\n",
        "    fgrad[0] = 2*(x[0] - x[1] - 1)\n",
        "    fgrad[1] = -2*(x[0] - x[1] - 1)\n",
        "\n",
        "    return fgrad\n",
        "\n",
        "def con(x):\n",
        "    cval = np.zeros(4)\n",
        "    cval[0] = x[0]**2 - 2                       \n",
        "    cval[1] = (x[0] - 1)**2 + (x[1] - 1)**2 - 3\n",
        "    cval[2] = -(x[1] - x[0]**2 + 1)\n",
        "    cval[3] = (x[1] - x[0]**2 + 1)*x[1]\n",
        "    \n",
        "    return -cval"
      ],
      "execution_count": null,
      "outputs": []
    },
    {
      "cell_type": "code",
      "metadata": {
        "id": "8re2meKpdzaH",
        "outputId": "3d767359-11e6-415f-ebbf-661cacb8e9f5"
      },
      "source": [
        "x0 = np.ones(2)\n",
        "bounds = Bounds([-1,0],[2,np.inf])\n",
        "\n",
        "cons = {'type':'ineq', 'fun': con}\n",
        "res = minimize(f, x0, method='SLSQP', bounds=bounds, constraints=cons)\n",
        "print(res.x)"
      ],
      "execution_count": null,
      "outputs": [
        {
          "output_type": "stream",
          "text": [
            "[1.0000000e+00 4.4408921e-16]\n"
          ],
          "name": "stdout"
        }
      ]
    },
    {
      "cell_type": "code",
      "metadata": {
        "id": "1gXFCFyJdzaI"
      },
      "source": [
        ""
      ],
      "execution_count": null,
      "outputs": []
    }
  ]
}
